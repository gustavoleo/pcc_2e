{
 "cells": [
  {
   "cell_type": "markdown",
   "id": "b920019a",
   "metadata": {},
   "source": [
    "Strings"
   ]
  },
  {
   "cell_type": "markdown",
   "id": "f1ee5738",
   "metadata": {},
   "source": [
    "Change case in a Srting with methods"
   ]
  },
  {
   "cell_type": "code",
   "execution_count": null,
   "id": "2559f7eb",
   "metadata": {},
   "outputs": [],
   "source": [
    "a = \"This is a string.\""
   ]
  },
  {
   "cell_type": "code",
   "execution_count": null,
   "id": "7e9b4ef1",
   "metadata": {},
   "outputs": [],
   "source": [
    "print(a)"
   ]
  },
  {
   "cell_type": "code",
   "execution_count": null,
   "id": "d013e65d",
   "metadata": {},
   "outputs": [],
   "source": [
    "b = 'This is also a string.'"
   ]
  },
  {
   "cell_type": "code",
   "execution_count": null,
   "id": "11ca2c63",
   "metadata": {},
   "outputs": [],
   "source": [
    "print (b)"
   ]
  },
  {
   "cell_type": "code",
   "execution_count": null,
   "id": "189dd34c",
   "metadata": {},
   "outputs": [],
   "source": [
    "name = \"gustavo de leo\""
   ]
  },
  {
   "cell_type": "code",
   "execution_count": null,
   "id": "efb4f60f",
   "metadata": {},
   "outputs": [],
   "source": [
    "print(name.title())"
   ]
  },
  {
   "cell_type": "code",
   "execution_count": null,
   "id": "e4722bd3",
   "metadata": {},
   "outputs": [],
   "source": [
    "print(name.upper())"
   ]
  },
  {
   "cell_type": "code",
   "execution_count": null,
   "id": "ea714889",
   "metadata": {},
   "outputs": [],
   "source": [
    "print(name.lower())"
   ]
  },
  {
   "cell_type": "code",
   "execution_count": null,
   "id": "36f10747",
   "metadata": {},
   "outputs": [],
   "source": [
    "first_name = \"gustavo\"\n",
    "last_name = \"de leo\"\n",
    "full_name = f\"{first_name} {last_name}\""
   ]
  },
  {
   "cell_type": "code",
   "execution_count": null,
   "id": "ff7c5494",
   "metadata": {},
   "outputs": [],
   "source": [
    "print(full_name)"
   ]
  },
  {
   "cell_type": "code",
   "execution_count": null,
   "id": "8dab2cca",
   "metadata": {},
   "outputs": [],
   "source": [
    "first_name = \"gustavo\"\n",
    "last_name = \"de leo\"\n",
    "full_name = f\"{first_name} {last_name}\""
   ]
  },
  {
   "cell_type": "code",
   "execution_count": null,
   "id": "a99afdcd",
   "metadata": {},
   "outputs": [],
   "source": [
    "print(f\"Hello, {full_name.title()}!\")"
   ]
  },
  {
   "cell_type": "code",
   "execution_count": null,
   "id": "8863d2d0",
   "metadata": {},
   "outputs": [],
   "source": [
    "first_name = \"gustavo\"\n",
    "last_name = \"de leo\"\n",
    "full_name = f\"{first_name} {last_name}\"\n",
    "message = f\"Hello, {full_name.title()}!\""
   ]
  },
  {
   "cell_type": "code",
   "execution_count": null,
   "id": "0ee07da2",
   "metadata": {},
   "outputs": [],
   "source": [
    "print(message)"
   ]
  },
  {
   "cell_type": "markdown",
   "id": "3d7c8cfb",
   "metadata": {},
   "source": [
    "# Addind Whitespaces to strings with Tabs or Newlines"
   ]
  },
  {
   "cell_type": "code",
   "execution_count": null,
   "id": "3dab5e7f",
   "metadata": {},
   "outputs": [],
   "source": [
    "print(\"Python\")"
   ]
  },
  {
   "cell_type": "code",
   "execution_count": null,
   "id": "5a02864f",
   "metadata": {},
   "outputs": [],
   "source": [
    "print(\"\\tPython\")"
   ]
  },
  {
   "cell_type": "markdown",
   "id": "bf506eba",
   "metadata": {},
   "source": [
    "To Add new line in a string use the character combinantion \\n:"
   ]
  },
  {
   "cell_type": "code",
   "execution_count": null,
   "id": "14cbdc07",
   "metadata": {},
   "outputs": [],
   "source": [
    "print(\"Languages:\\n\\tPython\\n\\tC\\n\\tJavaScript\")"
   ]
  },
  {
   "cell_type": "code",
   "execution_count": null,
   "id": "b9c899e2",
   "metadata": {},
   "outputs": [],
   "source": [
    "print(\"Irmãos:\\n\\tAlexandre\\n\\tBernardo\\n\\tGustavo\")"
   ]
  },
  {
   "cell_type": "code",
   "execution_count": null,
   "id": "f3a7deb2",
   "metadata": {},
   "outputs": [],
   "source": [
    "print(\"Quem são teus amigos mais malinos:\\n\\tH Sanna\\n\\tDr. Rafael Cunha\\n\\tDonner Lira\")"
   ]
  },
  {
   "cell_type": "code",
   "execution_count": 1,
   "id": "0459283a",
   "metadata": {},
   "outputs": [],
   "source": [
    "players = ['charles', 'martina', 'michael', 'florence', 'eli'] "
   ]
  },
  {
   "cell_type": "code",
   "execution_count": null,
   "id": "372e94c0",
   "metadata": {},
   "outputs": [],
   "source": [
    "print(\"Here are the first three players on my team:\")\n",
    "for player in players[:3]:\n",
    "    print(player.title())"
   ]
  },
  {
   "cell_type": "code",
   "execution_count": 3,
   "id": "1b6c4291",
   "metadata": {},
   "outputs": [],
   "source": [
    "p_players = players[:]"
   ]
  },
  {
   "cell_type": "code",
   "execution_count": 2,
   "id": "3b8c422b",
   "metadata": {},
   "outputs": [
    {
     "name": "stdout",
     "output_type": "stream",
     "text": [
      "['michael', 'florence', 'eli']\n"
     ]
    }
   ],
   "source": [
    "print(players[2:])"
   ]
  },
  {
   "cell_type": "code",
   "execution_count": null,
   "id": "ea92f396",
   "metadata": {},
   "outputs": [],
   "source": [
    "print(p_players)"
   ]
  },
  {
   "cell_type": "code",
   "execution_count": 4,
   "id": "9627bc4e",
   "metadata": {},
   "outputs": [
    {
     "name": "stdout",
     "output_type": "stream",
     "text": [
      "['michael', 'florence', 'eli']\n"
     ]
    }
   ],
   "source": [
    "print(players[-3:])"
   ]
  },
  {
   "cell_type": "code",
   "execution_count": null,
   "id": "4a8974b3",
   "metadata": {},
   "outputs": [],
   "source": []
  }
 ],
 "metadata": {
  "kernelspec": {
   "display_name": "Python 3",
   "language": "python",
   "name": "python3"
  },
  "language_info": {
   "codemirror_mode": {
    "name": "ipython",
    "version": 3
   },
   "file_extension": ".py",
   "mimetype": "text/x-python",
   "name": "python",
   "nbconvert_exporter": "python",
   "pygments_lexer": "ipython3",
   "version": "3.8.8"
  }
 },
 "nbformat": 4,
 "nbformat_minor": 5
}
